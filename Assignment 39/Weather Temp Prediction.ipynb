{
 "cells": [
  {
   "cell_type": "code",
   "execution_count": 1,
   "metadata": {},
   "outputs": [],
   "source": [
    "import numpy as np\n",
    "import pandas as pd\n",
    "import matplotlib.pyplot as plt\n",
    "from sklearn.model_selection import train_test_split\n",
    "from datetime import datetime"
   ]
  },
  {
   "cell_type": "code",
   "execution_count": 2,
   "metadata": {},
   "outputs": [
    {
     "data": {
      "text/html": [
       "<div>\n",
       "<style scoped>\n",
       "    .dataframe tbody tr th:only-of-type {\n",
       "        vertical-align: middle;\n",
       "    }\n",
       "\n",
       "    .dataframe tbody tr th {\n",
       "        vertical-align: top;\n",
       "    }\n",
       "\n",
       "    .dataframe thead th {\n",
       "        text-align: right;\n",
       "    }\n",
       "</style>\n",
       "<table border=\"1\" class=\"dataframe\">\n",
       "  <thead>\n",
       "    <tr style=\"text-align: right;\">\n",
       "      <th></th>\n",
       "      <th>Formatted Date</th>\n",
       "      <th>Temperature (C)</th>\n",
       "    </tr>\n",
       "  </thead>\n",
       "  <tbody>\n",
       "    <tr>\n",
       "      <th>0</th>\n",
       "      <td>2006-04-01 00:00:00.000 +0200</td>\n",
       "      <td>9.472222</td>\n",
       "    </tr>\n",
       "    <tr>\n",
       "      <th>1</th>\n",
       "      <td>2006-04-01 01:00:00.000 +0200</td>\n",
       "      <td>9.355556</td>\n",
       "    </tr>\n",
       "    <tr>\n",
       "      <th>2</th>\n",
       "      <td>2006-04-01 02:00:00.000 +0200</td>\n",
       "      <td>9.377778</td>\n",
       "    </tr>\n",
       "    <tr>\n",
       "      <th>3</th>\n",
       "      <td>2006-04-01 03:00:00.000 +0200</td>\n",
       "      <td>8.288889</td>\n",
       "    </tr>\n",
       "    <tr>\n",
       "      <th>4</th>\n",
       "      <td>2006-04-01 04:00:00.000 +0200</td>\n",
       "      <td>8.755556</td>\n",
       "    </tr>\n",
       "    <tr>\n",
       "      <th>...</th>\n",
       "      <td>...</td>\n",
       "      <td>...</td>\n",
       "    </tr>\n",
       "    <tr>\n",
       "      <th>96448</th>\n",
       "      <td>2016-09-09 19:00:00.000 +0200</td>\n",
       "      <td>26.016667</td>\n",
       "    </tr>\n",
       "    <tr>\n",
       "      <th>96449</th>\n",
       "      <td>2016-09-09 20:00:00.000 +0200</td>\n",
       "      <td>24.583333</td>\n",
       "    </tr>\n",
       "    <tr>\n",
       "      <th>96450</th>\n",
       "      <td>2016-09-09 21:00:00.000 +0200</td>\n",
       "      <td>22.038889</td>\n",
       "    </tr>\n",
       "    <tr>\n",
       "      <th>96451</th>\n",
       "      <td>2016-09-09 22:00:00.000 +0200</td>\n",
       "      <td>21.522222</td>\n",
       "    </tr>\n",
       "    <tr>\n",
       "      <th>96452</th>\n",
       "      <td>2016-09-09 23:00:00.000 +0200</td>\n",
       "      <td>20.438889</td>\n",
       "    </tr>\n",
       "  </tbody>\n",
       "</table>\n",
       "<p>96453 rows × 2 columns</p>\n",
       "</div>"
      ],
      "text/plain": [
       "                      Formatted Date  Temperature (C)\n",
       "0      2006-04-01 00:00:00.000 +0200         9.472222\n",
       "1      2006-04-01 01:00:00.000 +0200         9.355556\n",
       "2      2006-04-01 02:00:00.000 +0200         9.377778\n",
       "3      2006-04-01 03:00:00.000 +0200         8.288889\n",
       "4      2006-04-01 04:00:00.000 +0200         8.755556\n",
       "...                              ...              ...\n",
       "96448  2016-09-09 19:00:00.000 +0200        26.016667\n",
       "96449  2016-09-09 20:00:00.000 +0200        24.583333\n",
       "96450  2016-09-09 21:00:00.000 +0200        22.038889\n",
       "96451  2016-09-09 22:00:00.000 +0200        21.522222\n",
       "96452  2016-09-09 23:00:00.000 +0200        20.438889\n",
       "\n",
       "[96453 rows x 2 columns]"
      ]
     },
     "execution_count": 2,
     "metadata": {},
     "output_type": "execute_result"
    }
   ],
   "source": [
    "data = pd.read_csv(\"weatherHistory.csv\")\n",
    "data = data[[\"Formatted Date\", \"Temperature (C)\"]]\n",
    "data"
   ]
  },
  {
   "cell_type": "code",
   "execution_count": 3,
   "metadata": {},
   "outputs": [
    {
     "data": {
      "text/html": [
       "<div>\n",
       "<style scoped>\n",
       "    .dataframe tbody tr th:only-of-type {\n",
       "        vertical-align: middle;\n",
       "    }\n",
       "\n",
       "    .dataframe tbody tr th {\n",
       "        vertical-align: top;\n",
       "    }\n",
       "\n",
       "    .dataframe thead th {\n",
       "        text-align: right;\n",
       "    }\n",
       "</style>\n",
       "<table border=\"1\" class=\"dataframe\">\n",
       "  <thead>\n",
       "    <tr style=\"text-align: right;\">\n",
       "      <th></th>\n",
       "      <th>Formatted Date</th>\n",
       "      <th>Temperature (C)</th>\n",
       "    </tr>\n",
       "  </thead>\n",
       "  <tbody>\n",
       "    <tr>\n",
       "      <th>0</th>\n",
       "      <td>2006-04-01 00:00:00+02:00</td>\n",
       "      <td>9.472222</td>\n",
       "    </tr>\n",
       "    <tr>\n",
       "      <th>1</th>\n",
       "      <td>2006-04-01 01:00:00+02:00</td>\n",
       "      <td>9.355556</td>\n",
       "    </tr>\n",
       "    <tr>\n",
       "      <th>2</th>\n",
       "      <td>2006-04-01 02:00:00+02:00</td>\n",
       "      <td>9.377778</td>\n",
       "    </tr>\n",
       "    <tr>\n",
       "      <th>3</th>\n",
       "      <td>2006-04-01 03:00:00+02:00</td>\n",
       "      <td>8.288889</td>\n",
       "    </tr>\n",
       "    <tr>\n",
       "      <th>4</th>\n",
       "      <td>2006-04-01 04:00:00+02:00</td>\n",
       "      <td>8.755556</td>\n",
       "    </tr>\n",
       "  </tbody>\n",
       "</table>\n",
       "</div>"
      ],
      "text/plain": [
       "              Formatted Date  Temperature (C)\n",
       "0  2006-04-01 00:00:00+02:00         9.472222\n",
       "1  2006-04-01 01:00:00+02:00         9.355556\n",
       "2  2006-04-01 02:00:00+02:00         9.377778\n",
       "3  2006-04-01 03:00:00+02:00         8.288889\n",
       "4  2006-04-01 04:00:00+02:00         8.755556"
      ]
     },
     "execution_count": 3,
     "metadata": {},
     "output_type": "execute_result"
    }
   ],
   "source": [
    "data[\"Formatted Date\"] = pd.to_datetime(data[\"Formatted Date\"])\n",
    "data.head()"
   ]
  },
  {
   "cell_type": "code",
   "execution_count": 4,
   "metadata": {},
   "outputs": [
    {
     "data": {
      "text/html": [
       "<div>\n",
       "<style scoped>\n",
       "    .dataframe tbody tr th:only-of-type {\n",
       "        vertical-align: middle;\n",
       "    }\n",
       "\n",
       "    .dataframe tbody tr th {\n",
       "        vertical-align: top;\n",
       "    }\n",
       "\n",
       "    .dataframe thead th {\n",
       "        text-align: right;\n",
       "    }\n",
       "</style>\n",
       "<table border=\"1\" class=\"dataframe\">\n",
       "  <thead>\n",
       "    <tr style=\"text-align: right;\">\n",
       "      <th></th>\n",
       "      <th>Formatted Date</th>\n",
       "      <th>Temperature (C)</th>\n",
       "      <th>DayOfYear</th>\n",
       "      <th>Year</th>\n",
       "    </tr>\n",
       "  </thead>\n",
       "  <tbody>\n",
       "    <tr>\n",
       "      <th>0</th>\n",
       "      <td>2006-04-01 00:00:00+02:00</td>\n",
       "      <td>9.472222</td>\n",
       "      <td>91</td>\n",
       "      <td>2006</td>\n",
       "    </tr>\n",
       "    <tr>\n",
       "      <th>1</th>\n",
       "      <td>2006-04-01 01:00:00+02:00</td>\n",
       "      <td>9.355556</td>\n",
       "      <td>91</td>\n",
       "      <td>2006</td>\n",
       "    </tr>\n",
       "    <tr>\n",
       "      <th>2</th>\n",
       "      <td>2006-04-01 02:00:00+02:00</td>\n",
       "      <td>9.377778</td>\n",
       "      <td>91</td>\n",
       "      <td>2006</td>\n",
       "    </tr>\n",
       "    <tr>\n",
       "      <th>3</th>\n",
       "      <td>2006-04-01 03:00:00+02:00</td>\n",
       "      <td>8.288889</td>\n",
       "      <td>91</td>\n",
       "      <td>2006</td>\n",
       "    </tr>\n",
       "    <tr>\n",
       "      <th>4</th>\n",
       "      <td>2006-04-01 04:00:00+02:00</td>\n",
       "      <td>8.755556</td>\n",
       "      <td>91</td>\n",
       "      <td>2006</td>\n",
       "    </tr>\n",
       "    <tr>\n",
       "      <th>...</th>\n",
       "      <td>...</td>\n",
       "      <td>...</td>\n",
       "      <td>...</td>\n",
       "      <td>...</td>\n",
       "    </tr>\n",
       "    <tr>\n",
       "      <th>96448</th>\n",
       "      <td>2016-09-09 19:00:00+02:00</td>\n",
       "      <td>26.016667</td>\n",
       "      <td>253</td>\n",
       "      <td>2016</td>\n",
       "    </tr>\n",
       "    <tr>\n",
       "      <th>96449</th>\n",
       "      <td>2016-09-09 20:00:00+02:00</td>\n",
       "      <td>24.583333</td>\n",
       "      <td>253</td>\n",
       "      <td>2016</td>\n",
       "    </tr>\n",
       "    <tr>\n",
       "      <th>96450</th>\n",
       "      <td>2016-09-09 21:00:00+02:00</td>\n",
       "      <td>22.038889</td>\n",
       "      <td>253</td>\n",
       "      <td>2016</td>\n",
       "    </tr>\n",
       "    <tr>\n",
       "      <th>96451</th>\n",
       "      <td>2016-09-09 22:00:00+02:00</td>\n",
       "      <td>21.522222</td>\n",
       "      <td>253</td>\n",
       "      <td>2016</td>\n",
       "    </tr>\n",
       "    <tr>\n",
       "      <th>96452</th>\n",
       "      <td>2016-09-09 23:00:00+02:00</td>\n",
       "      <td>20.438889</td>\n",
       "      <td>253</td>\n",
       "      <td>2016</td>\n",
       "    </tr>\n",
       "  </tbody>\n",
       "</table>\n",
       "<p>96453 rows × 4 columns</p>\n",
       "</div>"
      ],
      "text/plain": [
       "                  Formatted Date  Temperature (C)  DayOfYear  Year\n",
       "0      2006-04-01 00:00:00+02:00         9.472222         91  2006\n",
       "1      2006-04-01 01:00:00+02:00         9.355556         91  2006\n",
       "2      2006-04-01 02:00:00+02:00         9.377778         91  2006\n",
       "3      2006-04-01 03:00:00+02:00         8.288889         91  2006\n",
       "4      2006-04-01 04:00:00+02:00         8.755556         91  2006\n",
       "...                          ...              ...        ...   ...\n",
       "96448  2016-09-09 19:00:00+02:00        26.016667        253  2016\n",
       "96449  2016-09-09 20:00:00+02:00        24.583333        253  2016\n",
       "96450  2016-09-09 21:00:00+02:00        22.038889        253  2016\n",
       "96451  2016-09-09 22:00:00+02:00        21.522222        253  2016\n",
       "96452  2016-09-09 23:00:00+02:00        20.438889        253  2016\n",
       "\n",
       "[96453 rows x 4 columns]"
      ]
     },
     "execution_count": 4,
     "metadata": {},
     "output_type": "execute_result"
    }
   ],
   "source": [
    "data[\"DayOfYear\"] = data[\"Formatted Date\"].map(lambda date: int(format(datetime(date.year, date.month, date.day), \"%j\")))\n",
    "data[\"Year\"] = data[\"Formatted Date\"].map(lambda date: date.year)\n",
    "data"
   ]
  },
  {
   "cell_type": "code",
   "execution_count": 5,
   "metadata": {},
   "outputs": [
    {
     "data": {
      "text/html": [
       "<div>\n",
       "<style scoped>\n",
       "    .dataframe tbody tr th:only-of-type {\n",
       "        vertical-align: middle;\n",
       "    }\n",
       "\n",
       "    .dataframe tbody tr th {\n",
       "        vertical-align: top;\n",
       "    }\n",
       "\n",
       "    .dataframe thead th {\n",
       "        text-align: right;\n",
       "    }\n",
       "</style>\n",
       "<table border=\"1\" class=\"dataframe\">\n",
       "  <thead>\n",
       "    <tr style=\"text-align: right;\">\n",
       "      <th></th>\n",
       "      <th>Year</th>\n",
       "      <th>DayOfYear</th>\n",
       "      <th>Temperature (C)</th>\n",
       "    </tr>\n",
       "  </thead>\n",
       "  <tbody>\n",
       "    <tr>\n",
       "      <th>0</th>\n",
       "      <td>2006</td>\n",
       "      <td>1</td>\n",
       "      <td>3.873148</td>\n",
       "    </tr>\n",
       "    <tr>\n",
       "      <th>1</th>\n",
       "      <td>2006</td>\n",
       "      <td>2</td>\n",
       "      <td>5.418519</td>\n",
       "    </tr>\n",
       "    <tr>\n",
       "      <th>2</th>\n",
       "      <td>2006</td>\n",
       "      <td>3</td>\n",
       "      <td>2.319444</td>\n",
       "    </tr>\n",
       "    <tr>\n",
       "      <th>3</th>\n",
       "      <td>2006</td>\n",
       "      <td>4</td>\n",
       "      <td>2.274074</td>\n",
       "    </tr>\n",
       "    <tr>\n",
       "      <th>4</th>\n",
       "      <td>2006</td>\n",
       "      <td>5</td>\n",
       "      <td>2.698148</td>\n",
       "    </tr>\n",
       "    <tr>\n",
       "      <th>...</th>\n",
       "      <td>...</td>\n",
       "      <td>...</td>\n",
       "      <td>...</td>\n",
       "    </tr>\n",
       "    <tr>\n",
       "      <th>4013</th>\n",
       "      <td>2016</td>\n",
       "      <td>362</td>\n",
       "      <td>0.280324</td>\n",
       "    </tr>\n",
       "    <tr>\n",
       "      <th>4014</th>\n",
       "      <td>2016</td>\n",
       "      <td>363</td>\n",
       "      <td>0.224306</td>\n",
       "    </tr>\n",
       "    <tr>\n",
       "      <th>4015</th>\n",
       "      <td>2016</td>\n",
       "      <td>364</td>\n",
       "      <td>0.169676</td>\n",
       "    </tr>\n",
       "    <tr>\n",
       "      <th>4016</th>\n",
       "      <td>2016</td>\n",
       "      <td>365</td>\n",
       "      <td>0.119444</td>\n",
       "    </tr>\n",
       "    <tr>\n",
       "      <th>4017</th>\n",
       "      <td>2016</td>\n",
       "      <td>366</td>\n",
       "      <td>0.072454</td>\n",
       "    </tr>\n",
       "  </tbody>\n",
       "</table>\n",
       "<p>4018 rows × 3 columns</p>\n",
       "</div>"
      ],
      "text/plain": [
       "      Year  DayOfYear  Temperature (C)\n",
       "0     2006          1         3.873148\n",
       "1     2006          2         5.418519\n",
       "2     2006          3         2.319444\n",
       "3     2006          4         2.274074\n",
       "4     2006          5         2.698148\n",
       "...    ...        ...              ...\n",
       "4013  2016        362         0.280324\n",
       "4014  2016        363         0.224306\n",
       "4015  2016        364         0.169676\n",
       "4016  2016        365         0.119444\n",
       "4017  2016        366         0.072454\n",
       "\n",
       "[4018 rows x 3 columns]"
      ]
     },
     "execution_count": 5,
     "metadata": {},
     "output_type": "execute_result"
    }
   ],
   "source": [
    "target_data = data.groupby([\"Year\", \"DayOfYear\"])[\"Temperature (C)\"].mean().reset_index()\n",
    "target_data"
   ]
  },
  {
   "cell_type": "code",
   "execution_count": 6,
   "metadata": {},
   "outputs": [
    {
     "data": {
      "text/plain": [
       "(4018, 1)"
      ]
     },
     "execution_count": 6,
     "metadata": {},
     "output_type": "execute_result"
    }
   ],
   "source": [
    "X = target_data[\"DayOfYear\"].values\n",
    "X = X.reshape(-1, 1)\n",
    "X.shape"
   ]
  },
  {
   "cell_type": "code",
   "execution_count": 7,
   "metadata": {},
   "outputs": [
    {
     "data": {
      "text/plain": [
       "(4018, 1)"
      ]
     },
     "execution_count": 7,
     "metadata": {},
     "output_type": "execute_result"
    }
   ],
   "source": [
    "Y = target_data[\"Temperature (C)\"].values\n",
    "Y = Y.reshape(-1, 1)\n",
    "Y.shape"
   ]
  },
  {
   "cell_type": "code",
   "execution_count": 8,
   "metadata": {},
   "outputs": [],
   "source": [
    "X_train, X_test, Y_train, Y_test = train_test_split(X, Y, shuffle=True)"
   ]
  },
  {
   "cell_type": "code",
   "execution_count": 9,
   "metadata": {},
   "outputs": [],
   "source": [
    "class Perceptron:\n",
    "    def __init__(self, lr_w, lr_b, epochs):\n",
    "        # hyper params\n",
    "        self.lr_w = lr_w\n",
    "        self.lr_b = lr_b\n",
    "        self.epochs = epochs\n",
    "        self.w = np.random.rand(1, 1)\n",
    "        self.b = np.random.rand(1, 1)\n",
    "    \n",
    "    # Train\n",
    "    def fit(self, X_train, Y_train):\n",
    "        fig, (ax1, ax2, ax3) = plt.subplots(1, 3, figsize=(20, 6), gridspec_kw={'width_ratios': [3, 1, 1]})\n",
    "        Errors_train = []\n",
    "        Errors_test = []\n",
    "        w_list = []\n",
    "        b_list = []\n",
    "        N = X_train.shape[0]\n",
    "        \n",
    "        for epoch in range(self.epochs):\n",
    "            for i in range(N):\n",
    "                x = X_train[i]\n",
    "                y = Y_train[i]\n",
    "                \n",
    "                y_pred = x * self.w + self.b\n",
    "                e = y - y_pred\n",
    "                \n",
    "                # update\n",
    "                self.w += self.lr_w * e * x\n",
    "                self.b += self.lr_b * e\n",
    "                w_list.append(self.w)\n",
    "                b_list.append(self.b)\n",
    "\n",
    "            # visualization\n",
    "            Y_pred = X_train * self.w + self.b\n",
    "            ax1.clear()\n",
    "            ax1.scatter(X_train, Y_train, c=\"green\")\n",
    "            ax1.plot(X_train, Y_pred, c=\"red\")\n",
    "             \n",
    "            Error_train = np.mean(np.abs(Y_train - Y_pred)) # MAE\n",
    "            Errors_train.append(Error_train)\n",
    "            ax2.clear()\n",
    "            ax2.set_title(\"MAE Loss (Train)\")\n",
    "            ax2.plot(Errors_train)\n",
    "            \n",
    "            Y_pred = X_test * self.w + self.b\n",
    "            Error_test = np.mean(np.abs(Y_test - Y_pred)) # MAE\n",
    "            Errors_test.append(Error_test)\n",
    "            ax3.clear()\n",
    "            ax3.set_title(\"MAE Loss (Test)\")\n",
    "            ax3.plot(Errors_test)\n",
    "            \n",
    "        plt.show()\n",
    "        return w_list, b_list\n",
    "        \n",
    "    def evaluate(self, X_test, Y_true, loss=\"MAE\"):\n",
    "        Y_pred = self.predict(X_test)\n",
    "        if loss == \"MAE\":\n",
    "            Error_test = np.mean(np.abs(Y_true - Y_pred))\n",
    "            return f\"MAE Loss for X_test: {Error_test}\"\n",
    "        elif loss == \"MSE\":\n",
    "            Error_test = np.mean((Y_true - Y_pred) ** 2)\n",
    "            return f\"MSE Loss for X_test: {Error_test}\"\n",
    "    \n",
    "    def predict(self, x_test):\n",
    "        y_pred = x_test * self.w + self.b\n",
    "        return y_pred"
   ]
  },
  {
   "cell_type": "code",
   "execution_count": 10,
   "metadata": {},
   "outputs": [
    {
     "data": {
      "image/png": "[encoded data removed]",
      "text/plain": [
       "<Figure size 1440x432 with 3 Axes>"
      ]
     },
     "metadata": {
      "needs_background": "light"
     },
     "output_type": "display_data"
    }
   ],
   "source": [
    "perceptron = Perceptron(0.0000001, 0.0001, 10)\n",
    "w_list, b_list = perceptron.fit(X_train, Y_train)"
   ]
  },
  {
   "cell_type": "code",
   "execution_count": 11,
   "metadata": {},
   "outputs": [
    {
     "name": "stdout",
     "output_type": "stream",
     "text": [
      "MAE Loss for X_test: 7.460064607370713\n",
      "MSE Loss for X_test: 80.03361087712365\n"
     ]
    }
   ],
   "source": [
    "print(perceptron.evaluate(X_test, Y_test, loss=\"MAE\"))\n",
    "print(perceptron.evaluate(X_test, Y_test, loss=\"MSE\"))"
   ]
  },
  {
   "cell_type": "code",
   "execution_count": 12,
   "metadata": {},
   "outputs": [
    {
     "data": {
      "text/plain": [
       "array([[11.61047593]])"
      ]
     },
     "execution_count": 12,
     "metadata": {},
     "output_type": "execute_result"
    }
   ],
   "source": [
    "perceptron.predict(200)"
   ]
  },
  {
   "cell_type": "code",
   "execution_count": 13,
   "metadata": {},
   "outputs": [],
   "source": [
    "np.save(\"npy files/w.npy\", w_list)\n",
    "np.save(\"npy files/b.npy\", b_list)"
   ]
  },
  {
   "cell_type": "code",
   "execution_count": 14,
   "metadata": {},
   "outputs": [
    {
     "data": {
      "text/plain": [
       "array([[[5.28366831]],\n",
       "\n",
       "       [[5.28366831]],\n",
       "\n",
       "       [[5.28366831]],\n",
       "\n",
       "       ...,\n",
       "\n",
       "       [[5.28366831]],\n",
       "\n",
       "       [[5.28366831]],\n",
       "\n",
       "       [[5.28366831]]])"
      ]
     },
     "execution_count": 14,
     "metadata": {},
     "output_type": "execute_result"
    }
   ],
   "source": [
    "np.load(\"npy files/b.npy\")"
   ]
  },
  {
   "cell_type": "code",
   "execution_count": 15,
   "metadata": {},
   "outputs": [
    {
     "data": {
      "text/plain": [
       "array([[[0.03163404]],\n",
       "\n",
       "       [[0.03163404]],\n",
       "\n",
       "       [[0.03163404]],\n",
       "\n",
       "       ...,\n",
       "\n",
       "       [[0.03163404]],\n",
       "\n",
       "       [[0.03163404]],\n",
       "\n",
       "       [[0.03163404]]])"
      ]
     },
     "execution_count": 15,
     "metadata": {},
     "output_type": "execute_result"
    }
   ],
   "source": [
    "np.load(\"npy files/w.npy\")"
   ]
  }
 ],
 "metadata": {
  "interpreter": {
   "hash": "2e3d5a221850d49c091bfa422729480c31cc2214df6b2f2f1ac4431d31ee6b32"
  },
  "kernelspec": {
   "display_name": "Python 3.10.2 64-bit",
   "language": "python",
   "name": "python3"
  },
  "language_info": {
   "codemirror_mode": {
    "name": "ipython",
    "version": 3
   },
   "file_extension": ".py",
   "mimetype": "text/x-python",
   "name": "python",
   "nbconvert_exporter": "python",
   "pygments_lexer": "ipython3",
   "version": "3.10.2"
  },
  "orig_nbformat": 4
 },
 "nbformat": 4,
 "nbformat_minor": 2
}
