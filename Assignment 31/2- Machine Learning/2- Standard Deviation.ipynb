{
 "cells": [
  {
   "cell_type": "code",
   "execution_count": 5,
   "metadata": {},
   "outputs": [],
   "source": [
    "import numpy as np"
   ]
  },
  {
   "cell_type": "code",
   "execution_count": 6,
   "metadata": {},
   "outputs": [
    {
     "name": "stdout",
     "output_type": "stream",
     "text": [
      "0.9035079029052513\n"
     ]
    }
   ],
   "source": [
    "# Standard Deviation\n",
    "speed = [86,87,88,86,87,85,86]\n",
    "print(np.std(speed))"
   ]
  },
  {
   "cell_type": "code",
   "execution_count": 7,
   "metadata": {},
   "outputs": [
    {
     "name": "stdout",
     "output_type": "stream",
     "text": [
      "37.84501153334721\n"
     ]
    }
   ],
   "source": [
    "speed = [32,111,138,28,59,77,97]\n",
    "print(np.std(speed))"
   ]
  },
  {
   "cell_type": "code",
   "execution_count": 10,
   "metadata": {},
   "outputs": [
    {
     "name": "stdout",
     "output_type": "stream",
     "text": [
      "var: 1432.2448979591834\n",
      "std: 37.84501153334721\n"
     ]
    }
   ],
   "source": [
    "# Variance\n",
    "print('var:', np.var(speed))\n",
    "print('std:', np.std(speed))"
   ]
  }
 ],
 "metadata": {
  "interpreter": {
   "hash": "4f8cdc62b16f15cc7dfcc5cc8163a7d98855af9fc2d201cb6c86bda0420c41e8"
  },
  "kernelspec": {
   "display_name": "Python 3.9.7 64-bit",
   "language": "python",
   "name": "python3"
  },
  "language_info": {
   "codemirror_mode": {
    "name": "ipython",
    "version": 3
   },
   "file_extension": ".py",
   "mimetype": "text/x-python",
   "name": "python",
   "nbconvert_exporter": "python",
   "pygments_lexer": "ipython3",
   "version": "3.9.7"
  },
  "orig_nbformat": 4
 },
 "nbformat": 4,
 "nbformat_minor": 2
}
